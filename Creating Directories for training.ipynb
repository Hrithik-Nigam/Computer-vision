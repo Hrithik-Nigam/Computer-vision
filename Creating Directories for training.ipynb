{
 "cells": [
  {
   "cell_type": "code",
   "execution_count": null,
   "id": "1829d44c",
   "metadata": {},
   "outputs": [],
   "source": [
    "import pandas as pd\n",
    "import os"
   ]
  },
  {
   "cell_type": "code",
   "execution_count": null,
   "id": "293769db",
   "metadata": {},
   "outputs": [],
   "source": [
    "csv_file = 'C:\\\\Users\\\\HP\\\\Desktop\\\\Images\\\\train.csv'\n",
    "\n",
    "root_dir = 'C:\\\\Users\\\\HP\\\\Desktop\\\\Images\\\\train'"
   ]
  },
  {
   "cell_type": "code",
   "execution_count": null,
   "id": "94165c7b",
   "metadata": {},
   "outputs": [],
   "source": [
    "data = pd.read_csv(csv_file)\n",
    "unique_categories = data['label'].unique()\n",
    "for category in unique_categories:\n",
    "    category_dir = os.path.join(root_dir, str(category))\n",
    "    os.makedirs(category_dir, exist_ok=True)\n",
    "\n",
    "\n",
    "for index, row in data.iterrows():\n",
    "    image_path = row['file_name']\n",
    "    category = row['label']\n",
    "    \n",
    "    source_path = os.path.join(root_dir, image_path)\n",
    "    target_path = os.path.join(root_dir, str(category), os.path.basename(image_path))\n",
    "    \n",
    "    shutil.move(source_path, target_path)"
   ]
  }
 ],
 "metadata": {
  "kernelspec": {
   "display_name": "Python 3 (ipykernel)",
   "language": "python",
   "name": "python3"
  },
  "language_info": {
   "codemirror_mode": {
    "name": "ipython",
    "version": 3
   },
   "file_extension": ".py",
   "mimetype": "text/x-python",
   "name": "python",
   "nbconvert_exporter": "python",
   "pygments_lexer": "ipython3",
   "version": "3.9.12"
  }
 },
 "nbformat": 4,
 "nbformat_minor": 5
}
